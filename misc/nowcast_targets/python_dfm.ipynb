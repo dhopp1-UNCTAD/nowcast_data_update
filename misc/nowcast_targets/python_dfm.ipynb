{
 "cells": [
  {
   "cell_type": "code",
   "execution_count": 1,
   "metadata": {},
   "outputs": [],
   "source": [
    "from dateutil.relativedelta import *\n",
    "import pandas as pd\n",
    "import numpy as np\n",
    "import matplotlib.pyplot as plt\n",
    "plt.rcParams['figure.figsize'] = [14, 7]\n",
    "import statsmodels.api as sm\n",
    "\n",
    "import warnings\n",
    "warnings.filterwarnings('ignore')"
   ]
  },
  {
   "cell_type": "code",
   "execution_count": 2,
   "metadata": {},
   "outputs": [],
   "source": [
    "catalog = pd.read_csv(\"../helper/catalog.csv\")\n",
    "data = pd.read_csv(\"../output/2020-06-01_database_tf.csv\", parse_dates=[\"date\"])\n",
    "ys = [\"x_world.sa\", \"x_vol_world2.sa\", \"x_servs_world.sa\"]"
   ]
  },
  {
   "cell_type": "code",
   "execution_count": 3,
   "metadata": {},
   "outputs": [],
   "source": [
    "# generating vintage dataset\n",
    "def offset_series(series, offset):\n",
    "    tmp = series\n",
    "    tmp[-offset:] = np.nan\n",
    "    return tmp\n",
    "    \n",
    "def gen_vintage(data, catalog, start_date, end_date):\n",
    "    tmp = data.loc[lambda x: (x.date >= start_date) & (x.date <= end_date), :]\n",
    "    offsets = [\n",
    "        catalog.loc[catalog.code == x,\"publication_lag\"].values[0]\n",
    "            if len(catalog.loc[catalog.code == x,\"publication_lag\"]) > 0 \n",
    "            else catalog.loc[catalog.code == x[:-3],\"publication_lag\"].values[0]\n",
    "        for x in data.columns[1:]\n",
    "    ]\n",
    "    for i in range(1, len(tmp.columns)):\n",
    "        tmp.iloc[:,i] = offset_series(tmp.iloc[:,i], offsets[i-1])\n",
    "    return tmp\n",
    "\n",
    "def interpolate(data, method):\n",
    "    if method == \"none\":\n",
    "        return data\n",
    "    elif method == \"linear\":\n",
    "        return data.interpolate()\n",
    "    elif method == \"mean\":\n",
    "        return data.fillna(data.mean())\n",
    "\n",
    "def gen_target_data(data, catalog, target, start_date, end_date, interp_method=\"none\", ragged_ends=True):\n",
    "    vintage = gen_vintage(data, catalog, start_date, end_date)\n",
    "    if target == \"x_world.sa\":\n",
    "        catalog_col = \"octave_value\"\n",
    "    elif target == \"x_vol_world2.sa\":\n",
    "        catalog_col = \"octave_volume\"\n",
    "    elif target == \"x_servs_world.sa\":\n",
    "        catalog_col = \"octave_services\"\n",
    "    tmp = vintage.loc[:, pd.unique([\"date\"] + catalog.loc[~pd.isna(catalog[catalog_col]), catalog_col].to_list())]\n",
    "    tmp = interpolate(data, interp_method)\n",
    "    if ragged_ends:\n",
    "        tmp = gen_vintage(tmp, catalog, start_date, end_date).set_index(\"date\").dropna(how=\"all\")\n",
    "    else:\n",
    "        tmp = tmp.set_index(\"date\").dropna(how=\"all\")\n",
    "    return tmp.loc[tmp.index > \"2002-01-01\",:]"
   ]
  },
  {
   "cell_type": "markdown",
   "metadata": {},
   "source": [
    "# LSTM"
   ]
  },
  {
   "cell_type": "code",
   "execution_count": 5,
   "metadata": {},
   "outputs": [],
   "source": [
    "# params\n",
    "start_date = \"2002-01-01\"\n",
    "global_end_date = \"2020-06-01\"\n",
    "target = \"x_world.sa\"\n",
    "\n",
    "x = gen_target_data(data, catalog, target, start_date, end_date, interp_method=\"none\", ragged_ends=True)"
   ]
  },
  {
   "cell_type": "code",
   "execution_count": 8,
   "metadata": {},
   "outputs": [
    {
     "data": {
      "text/plain": [
       "<torch._C.Generator at 0x7fb3a536ca10>"
      ]
     },
     "execution_count": 8,
     "metadata": {},
     "output_type": "execute_result"
    }
   ],
   "source": [
    "import torch\n",
    "import torch.nn as nn\n",
    "import torch.nn.functional as F\n",
    "import torch.optim as optim\n",
    "\n",
    "torch.manual_seed(1)"
   ]
  }
 ],
 "metadata": {
  "kernelspec": {
   "display_name": "Python 3",
   "language": "python",
   "name": "python3"
  },
  "language_info": {
   "codemirror_mode": {
    "name": "ipython",
    "version": 3
   },
   "file_extension": ".py",
   "mimetype": "text/x-python",
   "name": "python",
   "nbconvert_exporter": "python",
   "pygments_lexer": "ipython3",
   "version": "3.7.6"
  }
 },
 "nbformat": 4,
 "nbformat_minor": 4
}
